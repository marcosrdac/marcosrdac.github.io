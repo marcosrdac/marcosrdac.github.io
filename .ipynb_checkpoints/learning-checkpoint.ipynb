{
 "cells": [
  {
   "cell_type": "code",
   "execution_count": 2,
   "metadata": {},
   "outputs": [],
   "source": [
    "import os\n",
    "import re"
   ]
  },
  {
   "cell_type": "code",
   "execution_count": 103,
   "metadata": {},
   "outputs": [],
   "source": [
    "content_sign = '<!-- contents here --!>'\n",
    "posts_dir_name = 'content/blog/'\n",
    "index_file_name = 'index.html'\n",
    "page_file_name = 'models/_page.html'\n",
    "sections = ['contact', 'about']\n",
    "sections_dir_name = 'models'"
   ]
  },
  {
   "cell_type": "code",
   "execution_count": 104,
   "metadata": {},
   "outputs": [],
   "source": [
    "page_file = open(page_file_name,'r')\n",
    "page = page_file.read().split(content_sign)\n",
    "page_file.close()"
   ]
  },
  {
   "cell_type": "code",
   "execution_count": 105,
   "metadata": {
    "scrolled": true
   },
   "outputs": [
    {
     "data": {
      "text/plain": [
       "['<!DOCTYPE html>\\n<html lang=\"pt-br\">\\n<head>\\n  <meta charset=\"UTF-8\">\\n  <meta name=\"viewport\" content=\"width=device-width, initial-scale=1.0\" >\\n  <link href=\"models/style.css\" rel=\"stylesheet\">\\n  <script type=\"text/javascript\" src=\"http://latex.codecogs.com/latexit.js\"></script>\\n  <title>Marcos Reinan de Assis Conceição</title>\\n</head>\\n\\n<body>\\n\\n  <!-- Title --!>\\n  <div class=\"title_box\">\\n    <h1 class=\"bgemph\" align=\"right\">Marcos Reinan de Assis Conceição</h1>\\n  </div>\\n    \\n\\n  <div class=\"main_container\">\\n\\n\\n    <!-- left box --!>\\n    <div class=\"lateral_box\">\\n      <h3 class=\"bgemph\">links</h3>\\n      <div class=\"inner\">\\n        <a href=\"index.html\">home</a><br>\\n        <a href=\"contact.html\">contact</a><br>\\n        <a href=\"about.html\">about</a><br>\\n      </div>\\n    </div>\\n\\n\\n    <!-- contents --!>\\n    <div class=\"content_box\">\\n\\n      ',\n",
       " '\\n\\n    </div>\\n\\n    <!-- right box --!>\\n    <div class=\"lateral_box\">\\n      <h3 class=\"bgemph\" id=\"lateral_title\">autor</h3>\\n      <img src=\"pictures/me.jpg\" title=\"me\" alt=\"photo of me\" width=\"100%\">\\n      <h3 class=\"bgemph\" id=\"lateral_title\">marcosrdac</h3>\\n      <div class=\"inner\">\\n        <p>Olá!</p>\\n      </div>\\n    </div>\\n\\n  </div>\\n\\n\\n  <!-- Footer --!>\\n  <div class=footer_box>\\n    <center><img src=\"pictures/footer_lower.gif\" title=\"footer\" alt=\"\" width=\"100%\"></center>\\n  </div>\\n\\n</body>\\n</html>\\n']"
      ]
     },
     "execution_count": 105,
     "metadata": {},
     "output_type": "execute_result"
    }
   ],
   "source": [
    "page"
   ]
  },
  {
   "cell_type": "code",
   "execution_count": 192,
   "metadata": {},
   "outputs": [],
   "source": [
    "ignored_tags = [ ''.join(['<',i,j,'>']) for i in ['','/']\n",
    "                            for j in ['center'] ]\n",
    "\n",
    "def md_to_html(markdown_post):\n",
    "    # achando texto entre --- e ---\n",
    "    meta_match = re.match(r'^-{3}(.*)-{3}', markdown_post, re.S)\n",
    "    # retirando quebras de linhas das strings, separando por linhas\n",
    "    meta_strings = meta_match.groups()[0].splitlines()[1:]\n",
    "    # separing keys and values\n",
    "    meta_ = [re.search(':', i,re.S).start() for i in meta_strings]\n",
    "    meta_ = [(i[:meta_[n]], i[meta_[n]+2:]) for (n,i) in enumerate(meta_strings)]\n",
    "    # creating dictionary\n",
    "    meta = dict(meta_)\n",
    "\n",
    "    post = '\\n'.join([i+'<br>' if not(i in ignored_tags)\n",
    "                        else i for i in markdown_post[meta_match.end()+2:].splitlines()])\n",
    "    post = '<div class=\"inner\">\\n<p>\\n'+post+'\\n</p>\\n</div>\\n\\n'\n",
    "    title = ' '.join([meta['date'],meta['title']])\n",
    "    title = '<h3 class=\"bgemph\">'+title+'</h3>\\n\\n'\n",
    "    return(title+post)"
   ]
  },
  {
   "cell_type": "code",
   "execution_count": 187,
   "metadata": {
    "scrolled": true
   },
   "outputs": [
    {
     "data": {
      "text/plain": [
       "['<center>', '</center>']"
      ]
     },
     "execution_count": 187,
     "metadata": {},
     "output_type": "execute_result"
    }
   ],
   "source": [
    "filled_tags"
   ]
  },
  {
   "cell_type": "code",
   "execution_count": 183,
   "metadata": {
    "scrolled": false
   },
   "outputs": [],
   "source": [
    "ls = [ posts_dir_name+i for i in os.listdir(posts_dir_name) ]\n",
    "posts_dir = [ i for i in ls if os.path.isfile(i) ]\n",
    "posts_dir.sort()\n",
    "posts = [ md_to_html(open(i).read()) for i in posts_dir]\n",
    "#print(page[0]+''.join(posts)+page[1])"
   ]
  },
  {
   "cell_type": "markdown",
   "metadata": {},
   "source": [
    "works!"
   ]
  }
 ],
 "metadata": {
  "kernelspec": {
   "display_name": "Python 3",
   "language": "python",
   "name": "python3"
  },
  "language_info": {
   "codemirror_mode": {
    "name": "ipython",
    "version": 3
   },
   "file_extension": ".py",
   "mimetype": "text/x-python",
   "name": "python",
   "nbconvert_exporter": "python",
   "pygments_lexer": "ipython3",
   "version": "3.6.6"
  }
 },
 "nbformat": 4,
 "nbformat_minor": 2
}
